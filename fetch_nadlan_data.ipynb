{
 "cells": [
  {
   "cell_type": "markdown",
   "metadata": {},
   "source": [
    "# Scraping\n",
    "\n",
    "This notebook follows an example of scraping Nadlan Gov. It yeilds a query csv in 'data/gov' folder which will be avilable of off line analysis. \n",
    "\n",
    "Follow the comments to modify and try different queries.\n",
    "\n",
    "**Note:** This proceedure takes time, queries with a mutiple results could take a long time. Try not to query about more than one neigberhood."
   ]
  },
  {
   "cell_type": "code",
   "execution_count": 346,
   "metadata": {},
   "outputs": [],
   "source": [
    "import time\n",
    "\n",
    "from selenium import webdriver\n",
    "from selenium.webdriver.support import expected_conditions as EC\n",
    "from selenium.webdriver.common.by import By\n",
    "from selenium.webdriver.support.ui import WebDriverWait as wait\n",
    "from selenium.common.exceptions import ElementClickInterceptedException\n",
    "from selenium.webdriver.common.action_chains import ActionChains\n",
    "from selenium.webdriver.chrome.service import Service\n",
    "\n",
    "# import org.openqa.selenium.JavascriptExecutor as JavascriptExecutor\n",
    "import pprint\n",
    "import pandas as pd"
   ]
  },
  {
   "cell_type": "code",
   "execution_count": 347,
   "metadata": {},
   "outputs": [],
   "source": [
    "# insert your q\n",
    "q = '4000'\n"
   ]
  },
  {
   "cell_type": "code",
   "execution_count": 348,
   "metadata": {},
   "outputs": [],
   "source": [
    "# update to your driver path\n",
    "DRIVER_PATH = 'C:/Users/IMOE001/Downloads/chromedriver-win64/chromedriver-win64/chromedriver.exe'\n",
    "\n",
    "url = f'https://www.nadlan.gov.il/?view=settlement&id={q}&page=deals'\n",
    "\n",
    "service = Service(DRIVER_PATH)\n",
    "browser = webdriver.Chrome(service=service)\n",
    "browser.get(url)\n",
    "\n",
    "# now wait for load\n",
    "browser.implicitly_wait(5)\n",
    "\n",
    "browser.set_window_size(1500, 1000)"
   ]
  },
  {
   "cell_type": "code",
   "execution_count": 349,
   "metadata": {},
   "outputs": [],
   "source": [
    "class infinite_scroll(object):\n",
    "   \n",
    "    def __init__(self, last):\n",
    "    \n",
    "        self.last = last\n",
    "\n",
    "    def __call__(self, driver):\n",
    "        new = driver.execute_script('return document.body.scrollHeight')  \n",
    "        if new > self.last:\n",
    "            return new\n",
    "        else:\n",
    "            return False\n",
    "    "
   ]
  },
  {
   "cell_type": "code",
   "execution_count": 350,
   "metadata": {},
   "outputs": [
    {
     "name": "stdout",
     "output_type": "stream",
     "text": [
      "2647\n",
      "End of page reached\n"
     ]
    }
   ],
   "source": [
    "last_height = browser.execute_script('return document.body.scrollHeight')\n",
    "print(last_height)\n",
    "flag=1\n",
    "\n",
    "while flag==1:\n",
    "    browser.execute_script('window.scrollTo(0,document.body.scrollHeight)')\n",
    "\n",
    "    try:\n",
    "        w = wait(browser, 10)\n",
    "\n",
    "        new_height = w.until(infinite_scroll( last_height))\n",
    "        last_height = new_height\n",
    "\n",
    "    except:\n",
    "        print(\"End of page reached\")\n",
    "        flag = 0"
   ]
  },
  {
   "cell_type": "code",
   "execution_count": 351,
   "metadata": {},
   "outputs": [],
   "source": [
    "relevant_col_names = ['קומות במבנה','מחיר למ\"ר','שנת בנייה','תאריך עסקה', 'כתובת', 'גוש/חלקה/תת-חלקה', 'סוג נכס', 'חדרים', 'קומה', 'מ\"ר','מחיר']\n",
    "relevant_col_dict = {c:[] for c in relevant_col_names}"
   ]
  },
  {
   "cell_type": "code",
   "execution_count": 352,
   "metadata": {},
   "outputs": [],
   "source": [
    "def safe_get(features, idx):\n",
    "    return features[idx].text if len(features) > idx else \"\""
   ]
  },
  {
   "cell_type": "code",
   "execution_count": null,
   "metadata": {
    "scrolled": true
   },
   "outputs": [
    {
     "ename": "StaleElementReferenceException",
     "evalue": "Message: stale element reference: stale element not found\n  (Session info: chrome=137.0.7151.69); For documentation on this error, please visit: https://www.selenium.dev/documentation/webdriver/troubleshooting/errors#stale-element-reference-exception\nStacktrace:\n\tGetHandleVerifier [0x0x7ff6dda9fea5+79173]\n\tGetHandleVerifier [0x0x7ff6dda9ff00+79264]\n\t(No symbol) [0x0x7ff6dd859e5a]\n\t(No symbol) [0x0x7ff6dd870820]\n\t(No symbol) [0x0x7ff6dd86ed33]\n\t(No symbol) [0x0x7ff6dd862551]\n\t(No symbol) [0x0x7ff6dd86041f]\n\t(No symbol) [0x0x7ff6dd86489c]\n\t(No symbol) [0x0x7ff6dd86496f]\n\t(No symbol) [0x0x7ff6dd8b7954]\n\t(No symbol) [0x0x7ff6dd8b6b8b]\n\t(No symbol) [0x0x7ff6dd90c75d]\n\t(No symbol) [0x0x7ff6dd8d896a]\n\t(No symbol) [0x0x7ff6dd90100d]\n\t(No symbol) [0x0x7ff6dd8d8743]\n\t(No symbol) [0x0x7ff6dd8a14c1]\n\t(No symbol) [0x0x7ff6dd8a2253]\n\tGetHandleVerifier [0x0x7ff6ddd6a2dd+3004797]\n\tGetHandleVerifier [0x0x7ff6ddd6472d+2981325]\n\tGetHandleVerifier [0x0x7ff6ddd83380+3107360]\n\tGetHandleVerifier [0x0x7ff6ddabaa2e+188622]\n\tGetHandleVerifier [0x0x7ff6ddac22bf+219487]\n\tGetHandleVerifier [0x0x7ff6ddaa8df4+115860]\n\tGetHandleVerifier [0x0x7ff6ddaa8fa9+116297]\n\tGetHandleVerifier [0x0x7ff6dda8f558+11256]\n\tBaseThreadInitThunk [0x0x7ffe0bd37374+20]\n\tRtlUserThreadStart [0x0x7ffe0d5dcc91+33]\n",
     "output_type": "error",
     "traceback": [
      "\u001b[1;31m---------------------------------------------------------------------------\u001b[0m",
      "\u001b[1;31mStaleElementReferenceException\u001b[0m            Traceback (most recent call last)",
      "Cell \u001b[1;32mIn[357], line 8\u001b[0m\n\u001b[0;32m      5\u001b[0m sell_row_data \u001b[38;5;241m=\u001b[39m table\u001b[38;5;241m.\u001b[39mfind_elements(By\u001b[38;5;241m.\u001b[39mCLASS_NAME, \u001b[38;5;124m\"\u001b[39m\u001b[38;5;124mmainTable__row\u001b[39m\u001b[38;5;124m\"\u001b[39m)\n\u001b[0;32m      7\u001b[0m \u001b[38;5;28;01mfor\u001b[39;00m i \u001b[38;5;129;01min\u001b[39;00m \u001b[38;5;28mrange\u001b[39m(\u001b[38;5;241m1\u001b[39m, \u001b[38;5;28mlen\u001b[39m(sell_row_data)):\n\u001b[1;32m----> 8\u001b[0m     \u001b[43mActionChains\u001b[49m\u001b[43m(\u001b[49m\u001b[43mbrowser\u001b[49m\u001b[43m)\u001b[49m\u001b[38;5;241;43m.\u001b[39;49m\u001b[43mmove_to_element\u001b[49m\u001b[43m(\u001b[49m\u001b[43msell_row_data\u001b[49m\u001b[43m[\u001b[49m\u001b[43mi\u001b[49m\u001b[43m]\u001b[49m\u001b[43m)\u001b[49m\u001b[38;5;241;43m.\u001b[39;49m\u001b[43mperform\u001b[49m\u001b[43m(\u001b[49m\u001b[43m)\u001b[49m\n\u001b[0;32m     10\u001b[0m     features \u001b[38;5;241m=\u001b[39m sell_row_data[i]\u001b[38;5;241m.\u001b[39mfind_elements(By\u001b[38;5;241m.\u001b[39mCLASS_NAME,\u001b[38;5;124m\"\u001b[39m\u001b[38;5;124mmainTable__cell\u001b[39m\u001b[38;5;124m\"\u001b[39m)\n\u001b[0;32m     11\u001b[0m     relevant_col_dict[\u001b[38;5;124m'\u001b[39m\u001b[38;5;124mכתובת\u001b[39m\u001b[38;5;124m'\u001b[39m]\u001b[38;5;241m.\u001b[39mappend(safe_get(features, \u001b[38;5;241m1\u001b[39m))\n",
      "File \u001b[1;32m~\\AppData\\Roaming\\Python\\Python313\\site-packages\\selenium\\webdriver\\common\\action_chains.py:93\u001b[0m, in \u001b[0;36mActionChains.perform\u001b[1;34m(self)\u001b[0m\n\u001b[0;32m     91\u001b[0m \u001b[38;5;28;01mdef\u001b[39;00m \u001b[38;5;21mperform\u001b[39m(\u001b[38;5;28mself\u001b[39m) \u001b[38;5;241m-\u001b[39m\u001b[38;5;241m>\u001b[39m \u001b[38;5;28;01mNone\u001b[39;00m:\n\u001b[0;32m     92\u001b[0m \u001b[38;5;250m    \u001b[39m\u001b[38;5;124;03m\"\"\"Performs all stored actions.\"\"\"\u001b[39;00m\n\u001b[1;32m---> 93\u001b[0m     \u001b[38;5;28;43mself\u001b[39;49m\u001b[38;5;241;43m.\u001b[39;49m\u001b[43mw3c_actions\u001b[49m\u001b[38;5;241;43m.\u001b[39;49m\u001b[43mperform\u001b[49m\u001b[43m(\u001b[49m\u001b[43m)\u001b[49m\n",
      "File \u001b[1;32m~\\AppData\\Roaming\\Python\\Python313\\site-packages\\selenium\\webdriver\\common\\actions\\action_builder.py:168\u001b[0m, in \u001b[0;36mActionBuilder.perform\u001b[1;34m(self)\u001b[0m\n\u001b[0;32m    166\u001b[0m         enc[\u001b[38;5;124m\"\u001b[39m\u001b[38;5;124mactions\u001b[39m\u001b[38;5;124m\"\u001b[39m]\u001b[38;5;241m.\u001b[39mappend(encoded)\n\u001b[0;32m    167\u001b[0m         device\u001b[38;5;241m.\u001b[39mactions \u001b[38;5;241m=\u001b[39m []\n\u001b[1;32m--> 168\u001b[0m \u001b[38;5;28;43mself\u001b[39;49m\u001b[38;5;241;43m.\u001b[39;49m\u001b[43mdriver\u001b[49m\u001b[38;5;241;43m.\u001b[39;49m\u001b[43mexecute\u001b[49m\u001b[43m(\u001b[49m\u001b[43mCommand\u001b[49m\u001b[38;5;241;43m.\u001b[39;49m\u001b[43mW3C_ACTIONS\u001b[49m\u001b[43m,\u001b[49m\u001b[43m \u001b[49m\u001b[43menc\u001b[49m\u001b[43m)\u001b[49m\n",
      "File \u001b[1;32m~\\AppData\\Roaming\\Python\\Python313\\site-packages\\selenium\\webdriver\\remote\\webdriver.py:447\u001b[0m, in \u001b[0;36mWebDriver.execute\u001b[1;34m(self, driver_command, params)\u001b[0m\n\u001b[0;32m    445\u001b[0m response \u001b[38;5;241m=\u001b[39m \u001b[38;5;28mself\u001b[39m\u001b[38;5;241m.\u001b[39mcommand_executor\u001b[38;5;241m.\u001b[39mexecute(driver_command, params)\n\u001b[0;32m    446\u001b[0m \u001b[38;5;28;01mif\u001b[39;00m response:\n\u001b[1;32m--> 447\u001b[0m     \u001b[38;5;28;43mself\u001b[39;49m\u001b[38;5;241;43m.\u001b[39;49m\u001b[43merror_handler\u001b[49m\u001b[38;5;241;43m.\u001b[39;49m\u001b[43mcheck_response\u001b[49m\u001b[43m(\u001b[49m\u001b[43mresponse\u001b[49m\u001b[43m)\u001b[49m\n\u001b[0;32m    448\u001b[0m     response[\u001b[38;5;124m\"\u001b[39m\u001b[38;5;124mvalue\u001b[39m\u001b[38;5;124m\"\u001b[39m] \u001b[38;5;241m=\u001b[39m \u001b[38;5;28mself\u001b[39m\u001b[38;5;241m.\u001b[39m_unwrap_value(response\u001b[38;5;241m.\u001b[39mget(\u001b[38;5;124m\"\u001b[39m\u001b[38;5;124mvalue\u001b[39m\u001b[38;5;124m\"\u001b[39m, \u001b[38;5;28;01mNone\u001b[39;00m))\n\u001b[0;32m    449\u001b[0m     \u001b[38;5;28;01mreturn\u001b[39;00m response\n",
      "File \u001b[1;32m~\\AppData\\Roaming\\Python\\Python313\\site-packages\\selenium\\webdriver\\remote\\errorhandler.py:232\u001b[0m, in \u001b[0;36mErrorHandler.check_response\u001b[1;34m(self, response)\u001b[0m\n\u001b[0;32m    230\u001b[0m         alert_text \u001b[38;5;241m=\u001b[39m value[\u001b[38;5;124m\"\u001b[39m\u001b[38;5;124malert\u001b[39m\u001b[38;5;124m\"\u001b[39m]\u001b[38;5;241m.\u001b[39mget(\u001b[38;5;124m\"\u001b[39m\u001b[38;5;124mtext\u001b[39m\u001b[38;5;124m\"\u001b[39m)\n\u001b[0;32m    231\u001b[0m     \u001b[38;5;28;01mraise\u001b[39;00m exception_class(message, screen, stacktrace, alert_text)  \u001b[38;5;66;03m# type: ignore[call-arg]  # mypy is not smart enough here\u001b[39;00m\n\u001b[1;32m--> 232\u001b[0m \u001b[38;5;28;01mraise\u001b[39;00m exception_class(message, screen, stacktrace)\n",
      "\u001b[1;31mStaleElementReferenceException\u001b[0m: Message: stale element reference: stale element not found\n  (Session info: chrome=137.0.7151.69); For documentation on this error, please visit: https://www.selenium.dev/documentation/webdriver/troubleshooting/errors#stale-element-reference-exception\nStacktrace:\n\tGetHandleVerifier [0x0x7ff6dda9fea5+79173]\n\tGetHandleVerifier [0x0x7ff6dda9ff00+79264]\n\t(No symbol) [0x0x7ff6dd859e5a]\n\t(No symbol) [0x0x7ff6dd870820]\n\t(No symbol) [0x0x7ff6dd86ed33]\n\t(No symbol) [0x0x7ff6dd862551]\n\t(No symbol) [0x0x7ff6dd86041f]\n\t(No symbol) [0x0x7ff6dd86489c]\n\t(No symbol) [0x0x7ff6dd86496f]\n\t(No symbol) [0x0x7ff6dd8b7954]\n\t(No symbol) [0x0x7ff6dd8b6b8b]\n\t(No symbol) [0x0x7ff6dd90c75d]\n\t(No symbol) [0x0x7ff6dd8d896a]\n\t(No symbol) [0x0x7ff6dd90100d]\n\t(No symbol) [0x0x7ff6dd8d8743]\n\t(No symbol) [0x0x7ff6dd8a14c1]\n\t(No symbol) [0x0x7ff6dd8a2253]\n\tGetHandleVerifier [0x0x7ff6ddd6a2dd+3004797]\n\tGetHandleVerifier [0x0x7ff6ddd6472d+2981325]\n\tGetHandleVerifier [0x0x7ff6ddd83380+3107360]\n\tGetHandleVerifier [0x0x7ff6ddabaa2e+188622]\n\tGetHandleVerifier [0x0x7ff6ddac22bf+219487]\n\tGetHandleVerifier [0x0x7ff6ddaa8df4+115860]\n\tGetHandleVerifier [0x0x7ff6ddaa8fa9+116297]\n\tGetHandleVerifier [0x0x7ff6dda8f558+11256]\n\tBaseThreadInitThunk [0x0x7ffe0bd37374+20]\n\tRtlUserThreadStart [0x0x7ffe0d5dcc91+33]\n"
     ]
    }
   ],
   "source": [
    "has_next = True\n",
    "\n",
    "while has_next:\n",
    "    table = browser.find_elements(By.CLASS_NAME, \"mainTable\")[0]\n",
    "    sell_row_data = table.find_elements(By.CLASS_NAME, \"mainTable__row\")\n",
    "\n",
    "    for i in range(1, len(sell_row_data)):\n",
    "        ActionChains(browser).move_to_element(sell_row_data[i]).perform()\n",
    "\n",
    "        features = sell_row_data[i].find_elements(By.CLASS_NAME,\"mainTable__cell\")\n",
    "        relevant_col_dict['כתובת'].append(safe_get(features, 1))\n",
    "        relevant_col_dict['מ\"ר'].append(safe_get(features, 2))\n",
    "        relevant_col_dict['תאריך עסקה'].append(safe_get(features, 3))\n",
    "        relevant_col_dict['מחיר'].append(safe_get(features, 4))\n",
    "        relevant_col_dict['גוש/חלקה/תת-חלקה'].append(safe_get(features, 5))\n",
    "        relevant_col_dict['סוג נכס'].append(safe_get(features, 6))\n",
    "        relevant_col_dict['חדרים'].append(safe_get(features, 7))\n",
    "        relevant_col_dict['קומה'].append(safe_get(features, 8))\n",
    "\n",
    "        # Click the collapse arrow using JS to avoid interception\n",
    "        arrow = sell_row_data[i].find_elements(By.CLASS_NAME, \"collapseArrow\")[0]\n",
    "        browser.execute_script(\"arguments[0].click();\", arrow)\n",
    "        time.sleep(0.5)  # Give time for the DOM to update\n",
    "\n",
    "        sell_row_data_collapse = table.find_elements(By.CLASS_NAME, \"innerTablesContainer\")[0]\n",
    "        features = sell_row_data_collapse.find_elements(By.CLASS_NAME,\"innerTable__cell\")\n",
    "        # get previous deals\n",
    "        # print(safe_get(features, 8), safe_get(features, 9...)\n",
    "        relevant_col_dict['שנת בנייה'].append(safe_get(features, 3))\n",
    "        relevant_col_dict['מחיר למ\"ר'].append(safe_get(features, 4))\n",
    "        relevant_col_dict['קומות במבנה'].append(safe_get(features, 5))\n",
    "\n",
    "        browser.execute_script(\"arguments[0].click();\", arrow)\n",
    "        time.sleep(0.5)  # Give time for the DOM to update\n",
    "\n",
    "    next_button = browser.find_elements(By.ID, \"next\")\n",
    "    if len(next_button) == 0:\n",
    "        has_next = False\n",
    "        break\n",
    "    ActionChains(browser).move_to_element(next_button[0]).perform()\n",
    "    browser.execute_script(\"arguments[0].click();\", next_button[0])\n",
    "    time.sleep(1)  # Give time for the DOM to update\n",
    "\n",
    "print(relevant_col_dict)"
   ]
  },
  {
   "cell_type": "code",
   "execution_count": null,
   "metadata": {},
   "outputs": [
    {
     "name": "stdout",
     "output_type": "stream",
     "text": [
      "קומות במבנה: 10\n",
      "מחיר למ\"ר: 10\n",
      "שנת בנייה: 10\n",
      "תאריך עסקה: 10\n",
      "כתובת: 10\n",
      "גוש/חלקה/תת-חלקה: 10\n",
      "סוג נכס: 10\n",
      "חדרים: 10\n",
      "קומה: 10\n",
      "מ\"ר: 10\n",
      "מחיר: 10\n"
     ]
    }
   ],
   "source": [
    "nadlan_df = pd.DataFrame.from_dict(relevant_col_dict)\n",
    "\n",
    "for k,v in relevant_col_dict.items():\n",
    "    print(f'{k}: {len(v)}')"
   ]
  },
  {
   "cell_type": "code",
   "execution_count": null,
   "metadata": {},
   "outputs": [],
   "source": [
    "# name your csv\n",
    "csv_name = 'Haifa'\n",
    "\n",
    "nadlan_df.to_csv(f'data/gov/{csv_name}.csv', index=False)"
   ]
  }
 ],
 "metadata": {
  "kernelspec": {
   "display_name": "Python 3",
   "language": "python",
   "name": "python3"
  },
  "language_info": {
   "codemirror_mode": {
    "name": "ipython",
    "version": 3
   },
   "file_extension": ".py",
   "mimetype": "text/x-python",
   "name": "python",
   "nbconvert_exporter": "python",
   "pygments_lexer": "ipython3",
   "version": "3.13.4"
  },
  "toc": {
   "base_numbering": 1,
   "nav_menu": {},
   "number_sections": true,
   "sideBar": true,
   "skip_h1_title": false,
   "title_cell": "Table of Contents",
   "title_sidebar": "Contents",
   "toc_cell": false,
   "toc_position": {},
   "toc_section_display": true,
   "toc_window_display": false
  }
 },
 "nbformat": 4,
 "nbformat_minor": 2
}
