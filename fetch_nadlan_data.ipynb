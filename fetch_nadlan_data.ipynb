{
 "cells": [
  {
   "cell_type": "markdown",
   "metadata": {},
   "source": [
    "# Scraping\n",
    "\n",
    "This notebook follows an example of scraping Nadlan Gov. It yeilds a query csv in 'data/gov' folder which will be avilable of off line analysis. \n",
    "\n",
    "Follow the comments to modify and try different queries.\n",
    "\n",
    "**Note:** This proceedure takes time, queries with a mutiple results could take a long time. Try not to query about more than one neigberhood."
   ]
  },
  {
   "cell_type": "code",
   "execution_count": 39,
   "metadata": {},
   "outputs": [],
   "source": [
    "import time\n",
    "\n",
    "from selenium import webdriver\n",
    "from selenium.webdriver.common.by import By\n",
    "from selenium.webdriver.support.ui import WebDriverWait as wait\n",
    "from selenium.webdriver.common.action_chains import ActionChains\n",
    "from selenium.webdriver.chrome.service import Service\n",
    "\n",
    "# import org.openqa.selenium.JavascriptExecutor as JavascriptExecutor\n",
    "import pandas as pd"
   ]
  },
  {
   "cell_type": "code",
   "execution_count": 40,
   "metadata": {},
   "outputs": [],
   "source": [
    "# update to your driver path\n",
    "DRIVER_PATH = 'C:/Users/IMOE001/Downloads/chromedriver-win64/chromedriver-win64/chromedriver.exe'\n",
    "\n",
    "url = 'https://www.nadlan.gov.il/?view=neighborhood&id=65210894&page=deals'\n",
    "\n",
    "service = Service(DRIVER_PATH)\n",
    "browser = webdriver.Chrome(service=service)\n",
    "browser.get(url)\n",
    "\n",
    "# now wait for load\n",
    "browser.implicitly_wait(5)\n",
    "\n",
    "browser.set_window_size(1500, 1000)"
   ]
  },
  {
   "cell_type": "code",
   "execution_count": 41,
   "metadata": {},
   "outputs": [],
   "source": [
    "# button = browser.find_element(By.CLASS_NAME, 'filterBtn')\n",
    "# browser.execute_script(\"arguments[0].click();\", button)\n",
    "# time.sleep(0.5)  # Give time for the DOM to update\n",
    "\n",
    "# button = browser.find_elements(By.CLASS_NAME, 'btn')[3]\n",
    "# browser.execute_script(\"arguments[0].click();\", button)\n",
    "# time.sleep(0.5)  # Give time for the DOM to update\n",
    "\n",
    "# button = browser.find_elements(By.CLASS_NAME, 'dropdownBtn')[13]\n",
    "# browser.execute_script(\"arguments[0].click();\", button)\n",
    "# time.sleep(0.5)  # Give time for the DOM to update\n",
    "\n",
    "# button = browser.find_element(By.CLASS_NAME, 'filterBtn')\n",
    "# browser.execute_script(\"arguments[0].click();\", button)\n",
    "# time.sleep(0.5)  # Give time for the DOM to update"
   ]
  },
  {
   "cell_type": "code",
   "execution_count": 42,
   "metadata": {},
   "outputs": [],
   "source": [
    "class infinite_scroll(object):\n",
    "   \n",
    "    def __init__(self, last):\n",
    "    \n",
    "        self.last = last\n",
    "\n",
    "    def __call__(self, driver):\n",
    "        new = driver.execute_script('return document.body.scrollHeight')  \n",
    "        if new > self.last:\n",
    "            return new\n",
    "        else:\n",
    "            return False"
   ]
  },
  {
   "cell_type": "code",
   "execution_count": 43,
   "metadata": {},
   "outputs": [
    {
     "name": "stdout",
     "output_type": "stream",
     "text": [
      "641\n",
      "End of page reached\n"
     ]
    }
   ],
   "source": [
    "last_height = browser.execute_script('return document.body.scrollHeight')\n",
    "print(last_height)\n",
    "flag=1\n",
    "\n",
    "while flag==1:\n",
    "    browser.execute_script('window.scrollTo(0,document.body.scrollHeight)')\n",
    "\n",
    "    try:\n",
    "        w = wait(browser, 10)\n",
    "\n",
    "        new_height = w.until(infinite_scroll( last_height))\n",
    "        last_height = new_height\n",
    "\n",
    "    except:\n",
    "        print(\"End of page reached\")\n",
    "        flag = 0"
   ]
  },
  {
   "cell_type": "code",
   "execution_count": 44,
   "metadata": {},
   "outputs": [],
   "source": [
    "relevant_col_names = ['קומות במבנה','שנת בנייה','תאריך עסקה', 'כתובת', 'גוש/חלקה/תת-חלקה', 'סוג נכס', 'חדרים', 'קומה', 'מ\"ר','מחיר']\n",
    "relevant_col_dict = {c:[] for c in relevant_col_names}"
   ]
  },
  {
   "cell_type": "code",
   "execution_count": 45,
   "metadata": {},
   "outputs": [],
   "source": [
    "def safe_get(features, idx):\n",
    "    return features[idx].text if len(features) > idx else \"\""
   ]
  },
  {
   "cell_type": "code",
   "execution_count": 46,
   "metadata": {
    "scrolled": true
   },
   "outputs": [
    {
     "ename": "ElementNotInteractableException",
     "evalue": "Message: element not interactable: [object HTMLButtonElement] has no size and location\n  (Session info: chrome=137.0.7151.104)\nStacktrace:\n\tGetHandleVerifier [0x0x7ff7c3d1fea5+79173]\n\tGetHandleVerifier [0x0x7ff7c3d1ff00+79264]\n\t(No symbol) [0x0x7ff7c3ad9e5a]\n\t(No symbol) [0x0x7ff7c3ae184d]\n\t(No symbol) [0x0x7ff7c3ae489c]\n\t(No symbol) [0x0x7ff7c3ae496f]\n\t(No symbol) [0x0x7ff7c3b37954]\n\t(No symbol) [0x0x7ff7c3b36b8b]\n\t(No symbol) [0x0x7ff7c3b8c75d]\n\t(No symbol) [0x0x7ff7c3b5896a]\n\t(No symbol) [0x0x7ff7c3b8100d]\n\t(No symbol) [0x0x7ff7c3b58743]\n\t(No symbol) [0x0x7ff7c3b214c1]\n\t(No symbol) [0x0x7ff7c3b22253]\n\tGetHandleVerifier [0x0x7ff7c3fea2dd+3004797]\n\tGetHandleVerifier [0x0x7ff7c3fe472d+2981325]\n\tGetHandleVerifier [0x0x7ff7c4003380+3107360]\n\tGetHandleVerifier [0x0x7ff7c3d3aa2e+188622]\n\tGetHandleVerifier [0x0x7ff7c3d422bf+219487]\n\tGetHandleVerifier [0x0x7ff7c3d28df4+115860]\n\tGetHandleVerifier [0x0x7ff7c3d28fa9+116297]\n\tGetHandleVerifier [0x0x7ff7c3d0f558+11256]\n\tBaseThreadInitThunk [0x0x7ffbb9a07374+20]\n\tRtlUserThreadStart [0x0x7ffbb9c9cc91+33]\n",
     "output_type": "error",
     "traceback": [
      "\u001b[1;31m---------------------------------------------------------------------------\u001b[0m",
      "\u001b[1;31mElementNotInteractableException\u001b[0m           Traceback (most recent call last)",
      "Cell \u001b[1;32mIn[46], line 53\u001b[0m\n\u001b[0;32m     51\u001b[0m     has_next \u001b[38;5;241m=\u001b[39m \u001b[38;5;28;01mFalse\u001b[39;00m\n\u001b[0;32m     52\u001b[0m     \u001b[38;5;28;01mbreak\u001b[39;00m\n\u001b[1;32m---> 53\u001b[0m \u001b[43mActionChains\u001b[49m\u001b[43m(\u001b[49m\u001b[43mbrowser\u001b[49m\u001b[43m)\u001b[49m\u001b[38;5;241;43m.\u001b[39;49m\u001b[43mmove_to_element\u001b[49m\u001b[43m(\u001b[49m\u001b[43mnext_button\u001b[49m\u001b[43m[\u001b[49m\u001b[38;5;241;43m0\u001b[39;49m\u001b[43m]\u001b[49m\u001b[43m)\u001b[49m\u001b[38;5;241;43m.\u001b[39;49m\u001b[43mperform\u001b[49m\u001b[43m(\u001b[49m\u001b[43m)\u001b[49m\n\u001b[0;32m     54\u001b[0m browser\u001b[38;5;241m.\u001b[39mexecute_script(\u001b[38;5;124m\"\u001b[39m\u001b[38;5;124marguments[0].click();\u001b[39m\u001b[38;5;124m\"\u001b[39m, next_button[\u001b[38;5;241m0\u001b[39m])\n\u001b[0;32m     55\u001b[0m time\u001b[38;5;241m.\u001b[39msleep(\u001b[38;5;241m1.5\u001b[39m)  \u001b[38;5;66;03m# Give time for the DOM to update\u001b[39;00m\n",
      "File \u001b[1;32m~\\AppData\\Roaming\\Python\\Python313\\site-packages\\selenium\\webdriver\\common\\action_chains.py:93\u001b[0m, in \u001b[0;36mActionChains.perform\u001b[1;34m(self)\u001b[0m\n\u001b[0;32m     91\u001b[0m \u001b[38;5;28;01mdef\u001b[39;00m \u001b[38;5;21mperform\u001b[39m(\u001b[38;5;28mself\u001b[39m) \u001b[38;5;241m-\u001b[39m\u001b[38;5;241m>\u001b[39m \u001b[38;5;28;01mNone\u001b[39;00m:\n\u001b[0;32m     92\u001b[0m \u001b[38;5;250m    \u001b[39m\u001b[38;5;124;03m\"\"\"Performs all stored actions.\"\"\"\u001b[39;00m\n\u001b[1;32m---> 93\u001b[0m     \u001b[38;5;28;43mself\u001b[39;49m\u001b[38;5;241;43m.\u001b[39;49m\u001b[43mw3c_actions\u001b[49m\u001b[38;5;241;43m.\u001b[39;49m\u001b[43mperform\u001b[49m\u001b[43m(\u001b[49m\u001b[43m)\u001b[49m\n",
      "File \u001b[1;32m~\\AppData\\Roaming\\Python\\Python313\\site-packages\\selenium\\webdriver\\common\\actions\\action_builder.py:168\u001b[0m, in \u001b[0;36mActionBuilder.perform\u001b[1;34m(self)\u001b[0m\n\u001b[0;32m    166\u001b[0m         enc[\u001b[38;5;124m\"\u001b[39m\u001b[38;5;124mactions\u001b[39m\u001b[38;5;124m\"\u001b[39m]\u001b[38;5;241m.\u001b[39mappend(encoded)\n\u001b[0;32m    167\u001b[0m         device\u001b[38;5;241m.\u001b[39mactions \u001b[38;5;241m=\u001b[39m []\n\u001b[1;32m--> 168\u001b[0m \u001b[38;5;28;43mself\u001b[39;49m\u001b[38;5;241;43m.\u001b[39;49m\u001b[43mdriver\u001b[49m\u001b[38;5;241;43m.\u001b[39;49m\u001b[43mexecute\u001b[49m\u001b[43m(\u001b[49m\u001b[43mCommand\u001b[49m\u001b[38;5;241;43m.\u001b[39;49m\u001b[43mW3C_ACTIONS\u001b[49m\u001b[43m,\u001b[49m\u001b[43m \u001b[49m\u001b[43menc\u001b[49m\u001b[43m)\u001b[49m\n",
      "File \u001b[1;32m~\\AppData\\Roaming\\Python\\Python313\\site-packages\\selenium\\webdriver\\remote\\webdriver.py:447\u001b[0m, in \u001b[0;36mWebDriver.execute\u001b[1;34m(self, driver_command, params)\u001b[0m\n\u001b[0;32m    445\u001b[0m response \u001b[38;5;241m=\u001b[39m \u001b[38;5;28mself\u001b[39m\u001b[38;5;241m.\u001b[39mcommand_executor\u001b[38;5;241m.\u001b[39mexecute(driver_command, params)\n\u001b[0;32m    446\u001b[0m \u001b[38;5;28;01mif\u001b[39;00m response:\n\u001b[1;32m--> 447\u001b[0m     \u001b[38;5;28;43mself\u001b[39;49m\u001b[38;5;241;43m.\u001b[39;49m\u001b[43merror_handler\u001b[49m\u001b[38;5;241;43m.\u001b[39;49m\u001b[43mcheck_response\u001b[49m\u001b[43m(\u001b[49m\u001b[43mresponse\u001b[49m\u001b[43m)\u001b[49m\n\u001b[0;32m    448\u001b[0m     response[\u001b[38;5;124m\"\u001b[39m\u001b[38;5;124mvalue\u001b[39m\u001b[38;5;124m\"\u001b[39m] \u001b[38;5;241m=\u001b[39m \u001b[38;5;28mself\u001b[39m\u001b[38;5;241m.\u001b[39m_unwrap_value(response\u001b[38;5;241m.\u001b[39mget(\u001b[38;5;124m\"\u001b[39m\u001b[38;5;124mvalue\u001b[39m\u001b[38;5;124m\"\u001b[39m, \u001b[38;5;28;01mNone\u001b[39;00m))\n\u001b[0;32m    449\u001b[0m     \u001b[38;5;28;01mreturn\u001b[39;00m response\n",
      "File \u001b[1;32m~\\AppData\\Roaming\\Python\\Python313\\site-packages\\selenium\\webdriver\\remote\\errorhandler.py:232\u001b[0m, in \u001b[0;36mErrorHandler.check_response\u001b[1;34m(self, response)\u001b[0m\n\u001b[0;32m    230\u001b[0m         alert_text \u001b[38;5;241m=\u001b[39m value[\u001b[38;5;124m\"\u001b[39m\u001b[38;5;124malert\u001b[39m\u001b[38;5;124m\"\u001b[39m]\u001b[38;5;241m.\u001b[39mget(\u001b[38;5;124m\"\u001b[39m\u001b[38;5;124mtext\u001b[39m\u001b[38;5;124m\"\u001b[39m)\n\u001b[0;32m    231\u001b[0m     \u001b[38;5;28;01mraise\u001b[39;00m exception_class(message, screen, stacktrace, alert_text)  \u001b[38;5;66;03m# type: ignore[call-arg]  # mypy is not smart enough here\u001b[39;00m\n\u001b[1;32m--> 232\u001b[0m \u001b[38;5;28;01mraise\u001b[39;00m exception_class(message, screen, stacktrace)\n",
      "\u001b[1;31mElementNotInteractableException\u001b[0m: Message: element not interactable: [object HTMLButtonElement] has no size and location\n  (Session info: chrome=137.0.7151.104)\nStacktrace:\n\tGetHandleVerifier [0x0x7ff7c3d1fea5+79173]\n\tGetHandleVerifier [0x0x7ff7c3d1ff00+79264]\n\t(No symbol) [0x0x7ff7c3ad9e5a]\n\t(No symbol) [0x0x7ff7c3ae184d]\n\t(No symbol) [0x0x7ff7c3ae489c]\n\t(No symbol) [0x0x7ff7c3ae496f]\n\t(No symbol) [0x0x7ff7c3b37954]\n\t(No symbol) [0x0x7ff7c3b36b8b]\n\t(No symbol) [0x0x7ff7c3b8c75d]\n\t(No symbol) [0x0x7ff7c3b5896a]\n\t(No symbol) [0x0x7ff7c3b8100d]\n\t(No symbol) [0x0x7ff7c3b58743]\n\t(No symbol) [0x0x7ff7c3b214c1]\n\t(No symbol) [0x0x7ff7c3b22253]\n\tGetHandleVerifier [0x0x7ff7c3fea2dd+3004797]\n\tGetHandleVerifier [0x0x7ff7c3fe472d+2981325]\n\tGetHandleVerifier [0x0x7ff7c4003380+3107360]\n\tGetHandleVerifier [0x0x7ff7c3d3aa2e+188622]\n\tGetHandleVerifier [0x0x7ff7c3d422bf+219487]\n\tGetHandleVerifier [0x0x7ff7c3d28df4+115860]\n\tGetHandleVerifier [0x0x7ff7c3d28fa9+116297]\n\tGetHandleVerifier [0x0x7ff7c3d0f558+11256]\n\tBaseThreadInitThunk [0x0x7ffbb9a07374+20]\n\tRtlUserThreadStart [0x0x7ffbb9c9cc91+33]\n"
     ]
    }
   ],
   "source": [
    "has_next = True\n",
    "\n",
    "while has_next:\n",
    "    table = browser.find_elements(By.CLASS_NAME, \"mainTable\")[0]\n",
    "    sell_row_data = table.find_elements(By.CLASS_NAME, \"mainTable__row\")\n",
    "\n",
    "    for i in range(1, len(sell_row_data)):\n",
    "        ActionChains(browser).move_to_element(sell_row_data[i]).perform()\n",
    "\n",
    "        main_features = sell_row_data[i].find_elements(By.CLASS_NAME,\"mainTable__cell\")\n",
    "        relevant_col_dict['כתובת'].append(safe_get(main_features, 1))\n",
    "        relevant_col_dict['מ\"ר'].append(safe_get(main_features, 2))\n",
    "        relevant_col_dict['תאריך עסקה'].append(safe_get(main_features, 3))\n",
    "        relevant_col_dict['מחיר'].append(safe_get(main_features, 4))\n",
    "        relevant_col_dict['גוש/חלקה/תת-חלקה'].append(safe_get(main_features, 5))\n",
    "        relevant_col_dict['סוג נכס'].append(safe_get(main_features, 6))\n",
    "        relevant_col_dict['חדרים'].append(safe_get(main_features, 7))\n",
    "        relevant_col_dict['קומה'].append(safe_get(main_features, 8))\n",
    "\n",
    "        # Click the collapse arrow using JS to avoid interception\n",
    "        arrow = sell_row_data[i].find_elements(By.CLASS_NAME, \"collapseArrow\")[0]\n",
    "        browser.execute_script(\"arguments[0].click();\", arrow)\n",
    "        time.sleep(0.5)  # Give time for the DOM to update\n",
    "\n",
    "        sell_row_data_collapse = table.find_elements(By.CLASS_NAME, \"innerTablesContainer\")[0]\n",
    "        additional_features = sell_row_data_collapse.find_elements(By.CLASS_NAME,\"innerTable__cell\")\n",
    "        # get previous deals\n",
    "        # print(safe_get(features, 8), safe_get(features, 9...)\n",
    "        relevant_col_dict['שנת בנייה'].append(safe_get(additional_features, 3))\n",
    "        relevant_col_dict['קומות במבנה'].append(safe_get(additional_features, 5))\n",
    "\n",
    "        previous_deals_index = 8\n",
    "        while safe_get(additional_features, previous_deals_index) != \"\":\n",
    "            relevant_col_dict['כתובת'].append(safe_get(main_features, 1))\n",
    "            relevant_col_dict['מ\"ר'].append(safe_get(main_features, 2))\n",
    "            relevant_col_dict['תאריך עסקה'].append(safe_get(additional_features, previous_deals_index))\n",
    "            relevant_col_dict['מחיר'].append(safe_get(additional_features, previous_deals_index + 1))\n",
    "            relevant_col_dict['גוש/חלקה/תת-חלקה'].append(safe_get(main_features, 5))\n",
    "            relevant_col_dict['סוג נכס'].append(safe_get(main_features, 6))\n",
    "            relevant_col_dict['חדרים'].append(safe_get(main_features, 7))\n",
    "            relevant_col_dict['קומה'].append(safe_get(main_features, 8))\n",
    "            relevant_col_dict['שנת בנייה'].append(safe_get(additional_features, 3))\n",
    "            relevant_col_dict['קומות במבנה'].append(safe_get(additional_features, 5))\n",
    "            previous_deals_index += 2\n",
    "\n",
    "        browser.execute_script(\"arguments[0].click();\", arrow)\n",
    "        time.sleep(0.5)  # Give time for the DOM to update\n",
    "\n",
    "    next_button = browser.find_elements(By.ID, \"next\")\n",
    "    if len(next_button) == 0:\n",
    "        has_next = False\n",
    "        break\n",
    "    ActionChains(browser).move_to_element(next_button[0]).perform()\n",
    "    browser.execute_script(\"arguments[0].click();\", next_button[0])\n",
    "    time.sleep(1.5)  # Give time for the DOM to update\n",
    "\n",
    "print(relevant_col_dict)"
   ]
  },
  {
   "cell_type": "code",
   "execution_count": 47,
   "metadata": {},
   "outputs": [
    {
     "name": "stdout",
     "output_type": "stream",
     "text": [
      "קומות במבנה: 688\n",
      "שנת בנייה: 688\n",
      "תאריך עסקה: 688\n",
      "כתובת: 688\n",
      "גוש/חלקה/תת-חלקה: 688\n",
      "סוג נכס: 688\n",
      "חדרים: 688\n",
      "קומה: 688\n",
      "מ\"ר: 688\n",
      "מחיר: 688\n"
     ]
    }
   ],
   "source": [
    "nadlan_df = pd.DataFrame.from_dict(relevant_col_dict)\n",
    "\n",
    "for k,v in relevant_col_dict.items():\n",
    "    print(f'{k}: {len(v)}')"
   ]
  },
  {
   "cell_type": "code",
   "execution_count": 48,
   "metadata": {},
   "outputs": [],
   "source": [
    "# name your csv\n",
    "csv_name = 'Ramat-Almogi'\n",
    "\n",
    "nadlan_df.to_csv(f'data/gov/{csv_name}.csv', index=False)"
   ]
  }
 ],
 "metadata": {
  "kernelspec": {
   "display_name": "Python 3",
   "language": "python",
   "name": "python3"
  },
  "language_info": {
   "codemirror_mode": {
    "name": "ipython",
    "version": 3
   },
   "file_extension": ".py",
   "mimetype": "text/x-python",
   "name": "python",
   "nbconvert_exporter": "python",
   "pygments_lexer": "ipython3",
   "version": "3.13.4"
  },
  "toc": {
   "base_numbering": 1,
   "nav_menu": {},
   "number_sections": true,
   "sideBar": true,
   "skip_h1_title": false,
   "title_cell": "Table of Contents",
   "title_sidebar": "Contents",
   "toc_cell": false,
   "toc_position": {},
   "toc_section_display": true,
   "toc_window_display": false
  }
 },
 "nbformat": 4,
 "nbformat_minor": 2
}
